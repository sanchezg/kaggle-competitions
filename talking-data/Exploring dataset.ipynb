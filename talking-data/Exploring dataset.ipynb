{
 "cells": [
  {
   "cell_type": "code",
   "execution_count": 1,
   "metadata": {
    "collapsed": false
   },
   "outputs": [],
   "source": [
    "import pandas as pd\n",
    "import numpy as np\n",
    "\n",
    "from talkingdata import run\n",
    "from models import PhoneBrandEstimator\n",
    "\n",
    "%load_ext autoreload\n",
    "%autoreload 2"
   ]
  },
  {
   "cell_type": "code",
   "execution_count": 2,
   "metadata": {
    "collapsed": true
   },
   "outputs": [],
   "source": [
    "gatrain = pd.read_csv('data/gender_age_train.csv')\n",
    "pbrand = pd.read_csv('data/phone_brand_device_model.csv')"
   ]
  },
  {
   "cell_type": "code",
   "execution_count": 3,
   "metadata": {
    "collapsed": true
   },
   "outputs": [],
   "source": [
    "gatest = pd.read_csv('data/gender_age_test.csv')"
   ]
  },
  {
   "cell_type": "code",
   "execution_count": 4,
   "metadata": {
    "collapsed": false
   },
   "outputs": [
    {
     "data": {
      "text/plain": [
       "count     187245\n",
       "unique       131\n",
       "top           小米\n",
       "freq       43210\n",
       "Name: phone_brand, dtype: object"
      ]
     },
     "execution_count": 4,
     "metadata": {},
     "output_type": "execute_result"
    }
   ],
   "source": [
    "pbrand.phone_brand.describe()"
   ]
  },
  {
   "cell_type": "code",
   "execution_count": 5,
   "metadata": {
    "collapsed": false
   },
   "outputs": [],
   "source": [
    "gaptrain = gatrain.merge(pbrand.drop_duplicates('device_id',keep='first'), on='device_id')"
   ]
  },
  {
   "cell_type": "code",
   "execution_count": 6,
   "metadata": {
    "collapsed": false
   },
   "outputs": [
    {
     "data": {
      "text/plain": [
       "Index(['device_id', 'gender', 'age', 'group', 'phone_brand', 'device_model'], dtype='object')"
      ]
     },
     "execution_count": 6,
     "metadata": {},
     "output_type": "execute_result"
    }
   ],
   "source": [
    "gaptrain.columns"
   ]
  },
  {
   "cell_type": "code",
   "execution_count": 7,
   "metadata": {
    "collapsed": true
   },
   "outputs": [],
   "source": [
    "translations = pd.read_csv('data/phone_brand_chinese_to_english.csv', sep=',')"
   ]
  },
  {
   "cell_type": "code",
   "execution_count": 8,
   "metadata": {
    "collapsed": false
   },
   "outputs": [
    {
     "data": {
      "text/html": [
       "<div>\n",
       "<table border=\"1\" class=\"dataframe\">\n",
       "  <thead>\n",
       "    <tr style=\"text-align: right;\">\n",
       "      <th></th>\n",
       "      <th>ch</th>\n",
       "      <th>eng</th>\n",
       "    </tr>\n",
       "  </thead>\n",
       "  <tbody>\n",
       "    <tr>\n",
       "      <th>0</th>\n",
       "      <td>三星</td>\n",
       "      <td>samsung</td>\n",
       "    </tr>\n",
       "    <tr>\n",
       "      <th>1</th>\n",
       "      <td>天语</td>\n",
       "      <td>Ktouch</td>\n",
       "    </tr>\n",
       "    <tr>\n",
       "      <th>2</th>\n",
       "      <td>海信</td>\n",
       "      <td>hisense</td>\n",
       "    </tr>\n",
       "    <tr>\n",
       "      <th>3</th>\n",
       "      <td>联想</td>\n",
       "      <td>lenovo</td>\n",
       "    </tr>\n",
       "    <tr>\n",
       "      <th>4</th>\n",
       "      <td>欧比</td>\n",
       "      <td>obi</td>\n",
       "    </tr>\n",
       "  </tbody>\n",
       "</table>\n",
       "</div>"
      ],
      "text/plain": [
       "   ch      eng\n",
       "0  三星  samsung\n",
       "1  天语   Ktouch\n",
       "2  海信  hisense\n",
       "3  联想   lenovo\n",
       "4  欧比      obi"
      ]
     },
     "execution_count": 8,
     "metadata": {},
     "output_type": "execute_result"
    }
   ],
   "source": [
    "translations.head()"
   ]
  },
  {
   "cell_type": "code",
   "execution_count": 9,
   "metadata": {
    "collapsed": false
   },
   "outputs": [
    {
     "data": {
      "text/plain": [
       "count     55\n",
       "unique    55\n",
       "top       梦米\n",
       "freq       1\n",
       "Name: ch, dtype: object"
      ]
     },
     "execution_count": 9,
     "metadata": {},
     "output_type": "execute_result"
    }
   ],
   "source": [
    "translations.ch.describe()"
   ]
  },
  {
   "cell_type": "markdown",
   "metadata": {},
   "source": [
    "Como podemos ver, hay muchos menos modelos con traducciones (55) que el total (131)"
   ]
  },
  {
   "cell_type": "code",
   "execution_count": 10,
   "metadata": {
    "collapsed": false
   },
   "outputs": [],
   "source": [
    "for chb, engb in zip(translations['ch'], translations['eng']):\n",
    "    gaptrain.replace(to_replace=chb, value=engb, inplace=True)\n",
    "\n",
    "#gaptrain.replace(to_replace=translations['ch'], value=translations['eng'], inplace=True)"
   ]
  },
  {
   "cell_type": "markdown",
   "metadata": {},
   "source": [
    "Acabo de descubrir que 小米 es la traduccion de Xiaomi. Y 红米 es Red Rice"
   ]
  },
  {
   "cell_type": "code",
   "execution_count": 11,
   "metadata": {
    "collapsed": true
   },
   "outputs": [],
   "source": [
    "gaptrain.replace(to_replace=['小米', '红米'], value=['Xiaomi', 'Red Rice'], inplace=True)"
   ]
  },
  {
   "cell_type": "code",
   "execution_count": 12,
   "metadata": {
    "collapsed": true
   },
   "outputs": [],
   "source": [
    "gaptrain.device_id = gaptrain.device_id.astype('category')\n",
    "gaptrain.device_model = gaptrain.device_model.astype('category')\n",
    "gaptrain.phone_brand = gaptrain.phone_brand.astype('category')"
   ]
  },
  {
   "cell_type": "markdown",
   "metadata": {},
   "source": [
    "Ahora vamos a predecir sobre el test set."
   ]
  },
  {
   "cell_type": "code",
   "execution_count": 16,
   "metadata": {
    "collapsed": true
   },
   "outputs": [],
   "source": [
    "gaptest = gatest.merge(pbrand.drop_duplicates('device_id',keep='first'), on='device_id')\n",
    "\n",
    "for chb, engb in zip(translations['ch'], translations['eng']):\n",
    "    gaptest.replace(to_replace=chb, value=engb, inplace=True)\n",
    "gaptest.replace(to_replace=['小米', '红米'], value=['Xiaomi', 'Red Rice'], inplace=True)"
   ]
  },
  {
   "cell_type": "code",
   "execution_count": 18,
   "metadata": {
    "collapsed": true
   },
   "outputs": [],
   "source": [
    "dataset = gaptrain.drop(['gender', 'age'], axis=1)"
   ]
  },
  {
   "cell_type": "code",
   "execution_count": 17,
   "metadata": {
    "collapsed": false
   },
   "outputs": [],
   "source": [
    "# Leak\n",
    "dataset['row'] = dataset.index\n",
    "gaptest['row'] = gaptest.index"
   ]
  },
  {
   "cell_type": "code",
   "execution_count": 19,
   "metadata": {
    "collapsed": false
   },
   "outputs": [
    {
     "data": {
      "text/html": [
       "<div>\n",
       "<table border=\"1\" class=\"dataframe\">\n",
       "  <thead>\n",
       "    <tr style=\"text-align: right;\">\n",
       "      <th></th>\n",
       "      <th>device_id</th>\n",
       "      <th>group</th>\n",
       "      <th>phone_brand</th>\n",
       "      <th>device_model</th>\n",
       "      <th>row</th>\n",
       "    </tr>\n",
       "  </thead>\n",
       "  <tbody>\n",
       "    <tr>\n",
       "      <th>0</th>\n",
       "      <td>-8076087639492063270</td>\n",
       "      <td>M32-38</td>\n",
       "      <td>Xiaomi</td>\n",
       "      <td>MI 2</td>\n",
       "      <td>0</td>\n",
       "    </tr>\n",
       "    <tr>\n",
       "      <th>1</th>\n",
       "      <td>-2897161552818060146</td>\n",
       "      <td>M32-38</td>\n",
       "      <td>Xiaomi</td>\n",
       "      <td>MI 2</td>\n",
       "      <td>1</td>\n",
       "    </tr>\n",
       "    <tr>\n",
       "      <th>2</th>\n",
       "      <td>-8260683887967679142</td>\n",
       "      <td>M32-38</td>\n",
       "      <td>Xiaomi</td>\n",
       "      <td>MI 2</td>\n",
       "      <td>2</td>\n",
       "    </tr>\n",
       "    <tr>\n",
       "      <th>3</th>\n",
       "      <td>-4938849341048082022</td>\n",
       "      <td>M29-31</td>\n",
       "      <td>Xiaomi</td>\n",
       "      <td>红米note</td>\n",
       "      <td>3</td>\n",
       "    </tr>\n",
       "    <tr>\n",
       "      <th>4</th>\n",
       "      <td>245133531816851882</td>\n",
       "      <td>M29-31</td>\n",
       "      <td>Xiaomi</td>\n",
       "      <td>MI 3</td>\n",
       "      <td>4</td>\n",
       "    </tr>\n",
       "    <tr>\n",
       "      <th>5</th>\n",
       "      <td>-1297074871525174196</td>\n",
       "      <td>F24-26</td>\n",
       "      <td>OPPO</td>\n",
       "      <td>R1C</td>\n",
       "      <td>5</td>\n",
       "    </tr>\n",
       "    <tr>\n",
       "      <th>6</th>\n",
       "      <td>236877999787307864</td>\n",
       "      <td>M32-38</td>\n",
       "      <td>酷派</td>\n",
       "      <td>F2</td>\n",
       "      <td>6</td>\n",
       "    </tr>\n",
       "    <tr>\n",
       "      <th>7</th>\n",
       "      <td>-8098239495777311881</td>\n",
       "      <td>M32-38</td>\n",
       "      <td>Xiaomi</td>\n",
       "      <td>红米note</td>\n",
       "      <td>7</td>\n",
       "    </tr>\n",
       "    <tr>\n",
       "      <th>8</th>\n",
       "      <td>176515041953473526</td>\n",
       "      <td>M32-38</td>\n",
       "      <td>vivo</td>\n",
       "      <td>X3T</td>\n",
       "      <td>8</td>\n",
       "    </tr>\n",
       "    <tr>\n",
       "      <th>9</th>\n",
       "      <td>1596610250680140042</td>\n",
       "      <td>F33-42</td>\n",
       "      <td>samsung</td>\n",
       "      <td>Galaxy S4</td>\n",
       "      <td>9</td>\n",
       "    </tr>\n",
       "  </tbody>\n",
       "</table>\n",
       "</div>"
      ],
      "text/plain": [
       "             device_id   group phone_brand device_model  row\n",
       "0 -8076087639492063270  M32-38      Xiaomi         MI 2    0\n",
       "1 -2897161552818060146  M32-38      Xiaomi         MI 2    1\n",
       "2 -8260683887967679142  M32-38      Xiaomi         MI 2    2\n",
       "3 -4938849341048082022  M29-31      Xiaomi       红米note    3\n",
       "4   245133531816851882  M29-31      Xiaomi         MI 3    4\n",
       "5 -1297074871525174196  F24-26        OPPO          R1C    5\n",
       "6   236877999787307864  M32-38          酷派           F2    6\n",
       "7 -8098239495777311881  M32-38      Xiaomi       红米note    7\n",
       "8   176515041953473526  M32-38        vivo          X3T    8\n",
       "9  1596610250680140042  F33-42     samsung    Galaxy S4    9"
      ]
     },
     "execution_count": 19,
     "metadata": {},
     "output_type": "execute_result"
    }
   ],
   "source": [
    "dataset.head(10)"
   ]
  },
  {
   "cell_type": "code",
   "execution_count": 21,
   "metadata": {
    "collapsed": false
   },
   "outputs": [
    {
     "name": "stdout",
     "output_type": "stream",
     "text": [
      "Predicted LogLoss: 0_ 2.40066\n",
      "Predicted LogLoss: 1_ 2.40196\n",
      "Predicted LogLoss: 2_ 2.40330\n",
      "Predicted LogLoss: 3_ 2.39789\n"
     ]
    },
    {
     "name": "stderr",
     "output_type": "stream",
     "text": [
      "/home/gonzalo/virtualenvs/machine-learning/lib/python3.4/site-packages/ipykernel/__main__.py:2: VisibleDeprecationWarning: using a non-integer number instead of an integer will result in an error in the future\n",
      "  from ipykernel import kernelapp as app\n"
     ]
    }
   ],
   "source": [
    "results, rpred = run(PhoneBrandEstimator, dataset.dropna(), valid=gaptest)\n",
    "pred = pd.DataFrame(rpred[:len(rpred)/4], columns=results.columns[2:])\n",
    "pred.insert(0, 'device_id', gatest.device_id)\n",
    "pred.to_csv('data/valid_predictions_lrlk.csv', index=False)"
   ]
  },
  {
   "cell_type": "code",
   "execution_count": 22,
   "metadata": {
    "collapsed": false,
    "scrolled": true
   },
   "outputs": [
    {
     "data": {
      "text/plain": [
       "112071"
      ]
     },
     "execution_count": 22,
     "metadata": {},
     "output_type": "execute_result"
    }
   ],
   "source": [
    "len(pred)"
   ]
  },
  {
   "cell_type": "code",
   "execution_count": null,
   "metadata": {
    "collapsed": true
   },
   "outputs": [],
   "source": []
  }
 ],
 "metadata": {
  "kernelspec": {
   "display_name": "Python 3",
   "language": "python",
   "name": "python3"
  },
  "language_info": {
   "codemirror_mode": {
    "name": "ipython",
    "version": 3
   },
   "file_extension": ".py",
   "mimetype": "text/x-python",
   "name": "python",
   "nbconvert_exporter": "python",
   "pygments_lexer": "ipython3",
   "version": "3.4.3"
  }
 },
 "nbformat": 4,
 "nbformat_minor": 1
}
