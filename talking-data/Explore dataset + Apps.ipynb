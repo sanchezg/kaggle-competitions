{
 "cells": [
  {
   "cell_type": "code",
   "execution_count": 1,
   "metadata": {
    "collapsed": false
   },
   "outputs": [],
   "source": [
    "import pandas as pd\n",
    "import numpy as np\n",
    "\n",
    "from talkingdata import run\n",
    "from models import XGBEstimator, PhoneBrandEstimator\n",
    "\n",
    "%load_ext autoreload\n",
    "%autoreload 2"
   ]
  },
  {
   "cell_type": "code",
   "execution_count": 2,
   "metadata": {
    "collapsed": true
   },
   "outputs": [],
   "source": [
    "gatrain = pd.read_csv('data/gender_age_train.csv')\n",
    "pbrand = pd.read_csv('data/phone_brand_device_model.csv')"
   ]
  },
  {
   "cell_type": "code",
   "execution_count": 3,
   "metadata": {
    "collapsed": true
   },
   "outputs": [],
   "source": [
    "gatest = pd.read_csv('data/gender_age_test.csv')"
   ]
  },
  {
   "cell_type": "code",
   "execution_count": 4,
   "metadata": {
    "collapsed": false
   },
   "outputs": [
    {
     "data": {
      "text/plain": [
       "count     187245\n",
       "unique       131\n",
       "top           小米\n",
       "freq       43210\n",
       "Name: phone_brand, dtype: object"
      ]
     },
     "execution_count": 4,
     "metadata": {},
     "output_type": "execute_result"
    }
   ],
   "source": [
    "pbrand.phone_brand.describe()"
   ]
  },
  {
   "cell_type": "code",
   "execution_count": 5,
   "metadata": {
    "collapsed": false
   },
   "outputs": [],
   "source": [
    "gaptrain = gatrain.merge(pbrand.drop_duplicates('device_id',keep='first'), on='device_id')"
   ]
  },
  {
   "cell_type": "code",
   "execution_count": 6,
   "metadata": {
    "collapsed": false
   },
   "outputs": [
    {
     "data": {
      "text/plain": [
       "Index(['device_id', 'gender', 'age', 'group', 'phone_brand', 'device_model'], dtype='object')"
      ]
     },
     "execution_count": 6,
     "metadata": {},
     "output_type": "execute_result"
    }
   ],
   "source": [
    "gaptrain.columns"
   ]
  },
  {
   "cell_type": "code",
   "execution_count": 7,
   "metadata": {
    "collapsed": true
   },
   "outputs": [],
   "source": [
    "translations = pd.read_csv('data/phone_brand_chinese_to_english.csv', sep=',')"
   ]
  },
  {
   "cell_type": "code",
   "execution_count": 8,
   "metadata": {
    "collapsed": false
   },
   "outputs": [
    {
     "data": {
      "text/html": [
       "<div>\n",
       "<table border=\"1\" class=\"dataframe\">\n",
       "  <thead>\n",
       "    <tr style=\"text-align: right;\">\n",
       "      <th></th>\n",
       "      <th>ch</th>\n",
       "      <th>eng</th>\n",
       "    </tr>\n",
       "  </thead>\n",
       "  <tbody>\n",
       "    <tr>\n",
       "      <th>0</th>\n",
       "      <td>三星</td>\n",
       "      <td>samsung</td>\n",
       "    </tr>\n",
       "    <tr>\n",
       "      <th>1</th>\n",
       "      <td>天语</td>\n",
       "      <td>Ktouch</td>\n",
       "    </tr>\n",
       "    <tr>\n",
       "      <th>2</th>\n",
       "      <td>海信</td>\n",
       "      <td>hisense</td>\n",
       "    </tr>\n",
       "    <tr>\n",
       "      <th>3</th>\n",
       "      <td>联想</td>\n",
       "      <td>lenovo</td>\n",
       "    </tr>\n",
       "    <tr>\n",
       "      <th>4</th>\n",
       "      <td>欧比</td>\n",
       "      <td>obi</td>\n",
       "    </tr>\n",
       "  </tbody>\n",
       "</table>\n",
       "</div>"
      ],
      "text/plain": [
       "   ch      eng\n",
       "0  三星  samsung\n",
       "1  天语   Ktouch\n",
       "2  海信  hisense\n",
       "3  联想   lenovo\n",
       "4  欧比      obi"
      ]
     },
     "execution_count": 8,
     "metadata": {},
     "output_type": "execute_result"
    }
   ],
   "source": [
    "translations.head()"
   ]
  },
  {
   "cell_type": "code",
   "execution_count": 9,
   "metadata": {
    "collapsed": false
   },
   "outputs": [
    {
     "data": {
      "text/plain": [
       "count       55\n",
       "unique      55\n",
       "top       摩托罗拉\n",
       "freq         1\n",
       "Name: ch, dtype: object"
      ]
     },
     "execution_count": 9,
     "metadata": {},
     "output_type": "execute_result"
    }
   ],
   "source": [
    "translations.ch.describe()"
   ]
  },
  {
   "cell_type": "markdown",
   "metadata": {},
   "source": [
    "Como podemos ver, hay muchos menos modelos con traducciones (55) que el total (131)"
   ]
  },
  {
   "cell_type": "code",
   "execution_count": 10,
   "metadata": {
    "collapsed": false
   },
   "outputs": [],
   "source": [
    "for chb, engb in zip(translations['ch'], translations['eng']):\n",
    "    gaptrain.replace(to_replace=chb, value=engb, inplace=True)\n",
    "\n",
    "#gaptrain.replace(to_replace=translations['ch'], value=translations['eng'], inplace=True)"
   ]
  },
  {
   "cell_type": "markdown",
   "metadata": {},
   "source": [
    "Acabo de descubrir que 小米 es la traduccion de Xiaomi. Y 红米 es Red Rice"
   ]
  },
  {
   "cell_type": "code",
   "execution_count": 11,
   "metadata": {
    "collapsed": true
   },
   "outputs": [],
   "source": [
    "gaptrain.replace(to_replace=['小米', '红米'], value=['Xiaomi', 'Red Rice'], inplace=True)"
   ]
  },
  {
   "cell_type": "code",
   "execution_count": 12,
   "metadata": {
    "collapsed": true
   },
   "outputs": [],
   "source": [
    "gaptrain.device_id = gaptrain.device_id.astype('category')\n",
    "gaptrain.device_model = gaptrain.device_model.astype('category')\n",
    "gaptrain.phone_brand = gaptrain.phone_brand.astype('category')"
   ]
  },
  {
   "cell_type": "code",
   "execution_count": 13,
   "metadata": {
    "collapsed": true
   },
   "outputs": [],
   "source": [
    "gaptest = gatest.merge(pbrand.drop_duplicates('device_id',keep='first'), on='device_id')\n",
    "\n",
    "for chb, engb in zip(translations['ch'], translations['eng']):\n",
    "    gaptest.replace(to_replace=chb, value=engb, inplace=True)\n",
    "gaptest.replace(to_replace=['小米', '红米'], value=['Xiaomi', 'Red Rice'], inplace=True)"
   ]
  },
  {
   "cell_type": "code",
   "execution_count": 14,
   "metadata": {
    "collapsed": true
   },
   "outputs": [],
   "source": [
    "dataset = gaptrain.drop(['gender', 'age'], axis=1)"
   ]
  },
  {
   "cell_type": "code",
   "execution_count": 15,
   "metadata": {
    "collapsed": false
   },
   "outputs": [
    {
     "data": {
      "text/html": [
       "<div>\n",
       "<table border=\"1\" class=\"dataframe\">\n",
       "  <thead>\n",
       "    <tr style=\"text-align: right;\">\n",
       "      <th></th>\n",
       "      <th>device_id</th>\n",
       "      <th>group</th>\n",
       "      <th>phone_brand</th>\n",
       "      <th>device_model</th>\n",
       "    </tr>\n",
       "  </thead>\n",
       "  <tbody>\n",
       "    <tr>\n",
       "      <th>0</th>\n",
       "      <td>-8076087639492063270</td>\n",
       "      <td>M32-38</td>\n",
       "      <td>Xiaomi</td>\n",
       "      <td>MI 2</td>\n",
       "    </tr>\n",
       "    <tr>\n",
       "      <th>1</th>\n",
       "      <td>-2897161552818060146</td>\n",
       "      <td>M32-38</td>\n",
       "      <td>Xiaomi</td>\n",
       "      <td>MI 2</td>\n",
       "    </tr>\n",
       "    <tr>\n",
       "      <th>2</th>\n",
       "      <td>-8260683887967679142</td>\n",
       "      <td>M32-38</td>\n",
       "      <td>Xiaomi</td>\n",
       "      <td>MI 2</td>\n",
       "    </tr>\n",
       "    <tr>\n",
       "      <th>3</th>\n",
       "      <td>-4938849341048082022</td>\n",
       "      <td>M29-31</td>\n",
       "      <td>Xiaomi</td>\n",
       "      <td>红米note</td>\n",
       "    </tr>\n",
       "    <tr>\n",
       "      <th>4</th>\n",
       "      <td>245133531816851882</td>\n",
       "      <td>M29-31</td>\n",
       "      <td>Xiaomi</td>\n",
       "      <td>MI 3</td>\n",
       "    </tr>\n",
       "    <tr>\n",
       "      <th>5</th>\n",
       "      <td>-1297074871525174196</td>\n",
       "      <td>F24-26</td>\n",
       "      <td>OPPO</td>\n",
       "      <td>R1C</td>\n",
       "    </tr>\n",
       "    <tr>\n",
       "      <th>6</th>\n",
       "      <td>236877999787307864</td>\n",
       "      <td>M32-38</td>\n",
       "      <td>酷派</td>\n",
       "      <td>F2</td>\n",
       "    </tr>\n",
       "    <tr>\n",
       "      <th>7</th>\n",
       "      <td>-8098239495777311881</td>\n",
       "      <td>M32-38</td>\n",
       "      <td>Xiaomi</td>\n",
       "      <td>红米note</td>\n",
       "    </tr>\n",
       "    <tr>\n",
       "      <th>8</th>\n",
       "      <td>176515041953473526</td>\n",
       "      <td>M32-38</td>\n",
       "      <td>vivo</td>\n",
       "      <td>X3T</td>\n",
       "    </tr>\n",
       "    <tr>\n",
       "      <th>9</th>\n",
       "      <td>1596610250680140042</td>\n",
       "      <td>F33-42</td>\n",
       "      <td>samsung</td>\n",
       "      <td>Galaxy S4</td>\n",
       "    </tr>\n",
       "  </tbody>\n",
       "</table>\n",
       "</div>"
      ],
      "text/plain": [
       "             device_id   group phone_brand device_model\n",
       "0 -8076087639492063270  M32-38      Xiaomi         MI 2\n",
       "1 -2897161552818060146  M32-38      Xiaomi         MI 2\n",
       "2 -8260683887967679142  M32-38      Xiaomi         MI 2\n",
       "3 -4938849341048082022  M29-31      Xiaomi       红米note\n",
       "4   245133531816851882  M29-31      Xiaomi         MI 3\n",
       "5 -1297074871525174196  F24-26        OPPO          R1C\n",
       "6   236877999787307864  M32-38          酷派           F2\n",
       "7 -8098239495777311881  M32-38      Xiaomi       红米note\n",
       "8   176515041953473526  M32-38        vivo          X3T\n",
       "9  1596610250680140042  F33-42     samsung    Galaxy S4"
      ]
     },
     "execution_count": 15,
     "metadata": {},
     "output_type": "execute_result"
    }
   ],
   "source": [
    "dataset.head(10)"
   ]
  },
  {
   "cell_type": "markdown",
   "metadata": {
    "collapsed": true
   },
   "source": [
    "Voy a agregar apps"
   ]
  },
  {
   "cell_type": "code",
   "execution_count": 16,
   "metadata": {
    "collapsed": false
   },
   "outputs": [
    {
     "data": {
      "text/html": [
       "<div>\n",
       "<table border=\"1\" class=\"dataframe\">\n",
       "  <thead>\n",
       "    <tr style=\"text-align: right;\">\n",
       "      <th></th>\n",
       "      <th>event_id</th>\n",
       "      <th>app_id</th>\n",
       "    </tr>\n",
       "  </thead>\n",
       "  <tbody>\n",
       "    <tr>\n",
       "      <th>0</th>\n",
       "      <td>2</td>\n",
       "      <td>5927333115845830913</td>\n",
       "    </tr>\n",
       "    <tr>\n",
       "      <th>1</th>\n",
       "      <td>2</td>\n",
       "      <td>-5720078949152207372</td>\n",
       "    </tr>\n",
       "    <tr>\n",
       "      <th>2</th>\n",
       "      <td>2</td>\n",
       "      <td>-1633887856876571208</td>\n",
       "    </tr>\n",
       "    <tr>\n",
       "      <th>3</th>\n",
       "      <td>2</td>\n",
       "      <td>-653184325010919369</td>\n",
       "    </tr>\n",
       "    <tr>\n",
       "      <th>4</th>\n",
       "      <td>2</td>\n",
       "      <td>8693964245073640147</td>\n",
       "    </tr>\n",
       "  </tbody>\n",
       "</table>\n",
       "</div>"
      ],
      "text/plain": [
       "   event_id               app_id\n",
       "0         2  5927333115845830913\n",
       "1         2 -5720078949152207372\n",
       "2         2 -1633887856876571208\n",
       "3         2  -653184325010919369\n",
       "4         2  8693964245073640147"
      ]
     },
     "execution_count": 16,
     "metadata": {},
     "output_type": "execute_result"
    }
   ],
   "source": [
    "#appsevents = pd.read_csv('data/app_events.csv', usecols=['event_id','app_id','is_active'], dtype={'is_active':bool})\n",
    "appsevents = pd.read_csv('data/app_events.csv', usecols=['event_id','app_id'])\n",
    "appsevents.head()"
   ]
  },
  {
   "cell_type": "code",
   "execution_count": 17,
   "metadata": {
    "collapsed": false
   },
   "outputs": [
    {
     "data": {
      "text/html": [
       "<div>\n",
       "<table border=\"1\" class=\"dataframe\">\n",
       "  <thead>\n",
       "    <tr style=\"text-align: right;\">\n",
       "      <th></th>\n",
       "      <th>event_id</th>\n",
       "      <th>device_id</th>\n",
       "    </tr>\n",
       "  </thead>\n",
       "  <tbody>\n",
       "    <tr>\n",
       "      <th>0</th>\n",
       "      <td>1</td>\n",
       "      <td>29182687948017175</td>\n",
       "    </tr>\n",
       "    <tr>\n",
       "      <th>1</th>\n",
       "      <td>2</td>\n",
       "      <td>-6401643145415154744</td>\n",
       "    </tr>\n",
       "    <tr>\n",
       "      <th>2</th>\n",
       "      <td>3</td>\n",
       "      <td>-4833982096941402721</td>\n",
       "    </tr>\n",
       "    <tr>\n",
       "      <th>3</th>\n",
       "      <td>4</td>\n",
       "      <td>-6815121365017318426</td>\n",
       "    </tr>\n",
       "    <tr>\n",
       "      <th>4</th>\n",
       "      <td>5</td>\n",
       "      <td>-5373797595892518570</td>\n",
       "    </tr>\n",
       "  </tbody>\n",
       "</table>\n",
       "</div>"
      ],
      "text/plain": [
       "   event_id            device_id\n",
       "0         1    29182687948017175\n",
       "1         2 -6401643145415154744\n",
       "2         3 -4833982096941402721\n",
       "3         4 -6815121365017318426\n",
       "4         5 -5373797595892518570"
      ]
     },
     "execution_count": 17,
     "metadata": {},
     "output_type": "execute_result"
    }
   ],
   "source": [
    "#events = pd.read_csv('data/events.csv', parse_dates=['timestamp'], usecols=['event_id', 'device_id', 'timestamp'])\n",
    "events = pd.read_csv('data/events.csv', usecols=['event_id', 'device_id'])\n",
    "events.head()"
   ]
  },
  {
   "cell_type": "code",
   "execution_count": 18,
   "metadata": {
    "collapsed": false
   },
   "outputs": [
    {
     "data": {
      "text/html": [
       "<div>\n",
       "<table border=\"1\" class=\"dataframe\">\n",
       "  <thead>\n",
       "    <tr style=\"text-align: right;\">\n",
       "      <th></th>\n",
       "      <th>app_id</th>\n",
       "      <th>device_id</th>\n",
       "    </tr>\n",
       "  </thead>\n",
       "  <tbody>\n",
       "    <tr>\n",
       "      <th>0</th>\n",
       "      <td>5927333115845830913</td>\n",
       "      <td>-6401643145415154744</td>\n",
       "    </tr>\n",
       "    <tr>\n",
       "      <th>1</th>\n",
       "      <td>-5720078949152207372</td>\n",
       "      <td>-6401643145415154744</td>\n",
       "    </tr>\n",
       "    <tr>\n",
       "      <th>2</th>\n",
       "      <td>-1633887856876571208</td>\n",
       "      <td>-6401643145415154744</td>\n",
       "    </tr>\n",
       "    <tr>\n",
       "      <th>3</th>\n",
       "      <td>-653184325010919369</td>\n",
       "      <td>-6401643145415154744</td>\n",
       "    </tr>\n",
       "    <tr>\n",
       "      <th>4</th>\n",
       "      <td>8693964245073640147</td>\n",
       "      <td>-6401643145415154744</td>\n",
       "    </tr>\n",
       "  </tbody>\n",
       "</table>\n",
       "</div>"
      ],
      "text/plain": [
       "                app_id            device_id\n",
       "0  5927333115845830913 -6401643145415154744\n",
       "1 -5720078949152207372 -6401643145415154744\n",
       "2 -1633887856876571208 -6401643145415154744\n",
       "3  -653184325010919369 -6401643145415154744\n",
       "4  8693964245073640147 -6401643145415154744"
      ]
     },
     "execution_count": 18,
     "metadata": {},
     "output_type": "execute_result"
    }
   ],
   "source": [
    "appsevents = appsevents.merge(events, on='event_id')\n",
    "appsevents = appsevents.drop('event_id', axis=1)\n",
    "appsevents = appsevents.drop_duplicates()\n",
    "appsevents.head()"
   ]
  },
  {
   "cell_type": "markdown",
   "metadata": {},
   "source": [
    "Mergear dentro del dataset y borrar features que no voy a utilizar."
   ]
  },
  {
   "cell_type": "code",
   "execution_count": 19,
   "metadata": {
    "collapsed": false
   },
   "outputs": [
    {
     "data": {
      "text/html": [
       "<div>\n",
       "<table border=\"1\" class=\"dataframe\">\n",
       "  <thead>\n",
       "    <tr style=\"text-align: right;\">\n",
       "      <th></th>\n",
       "      <th>device_id</th>\n",
       "      <th>group</th>\n",
       "      <th>phone_brand</th>\n",
       "      <th>device_model</th>\n",
       "      <th>app_id</th>\n",
       "    </tr>\n",
       "  </thead>\n",
       "  <tbody>\n",
       "    <tr>\n",
       "      <th>0</th>\n",
       "      <td>-8260683887967679142</td>\n",
       "      <td>M32-38</td>\n",
       "      <td>Xiaomi</td>\n",
       "      <td>MI 2</td>\n",
       "      <td>4287147352639325907</td>\n",
       "    </tr>\n",
       "    <tr>\n",
       "      <th>1</th>\n",
       "      <td>-8260683887967679142</td>\n",
       "      <td>M32-38</td>\n",
       "      <td>Xiaomi</td>\n",
       "      <td>MI 2</td>\n",
       "      <td>-4085686983594738208</td>\n",
       "    </tr>\n",
       "    <tr>\n",
       "      <th>2</th>\n",
       "      <td>-8260683887967679142</td>\n",
       "      <td>M32-38</td>\n",
       "      <td>Xiaomi</td>\n",
       "      <td>MI 2</td>\n",
       "      <td>6324194957022958681</td>\n",
       "    </tr>\n",
       "    <tr>\n",
       "      <th>3</th>\n",
       "      <td>-8260683887967679142</td>\n",
       "      <td>M32-38</td>\n",
       "      <td>Xiaomi</td>\n",
       "      <td>MI 2</td>\n",
       "      <td>-8687507491028761317</td>\n",
       "    </tr>\n",
       "    <tr>\n",
       "      <th>4</th>\n",
       "      <td>-8260683887967679142</td>\n",
       "      <td>M32-38</td>\n",
       "      <td>Xiaomi</td>\n",
       "      <td>MI 2</td>\n",
       "      <td>877288515501232570</td>\n",
       "    </tr>\n",
       "  </tbody>\n",
       "</table>\n",
       "</div>"
      ],
      "text/plain": [
       "             device_id   group phone_brand device_model               app_id\n",
       "0 -8260683887967679142  M32-38      Xiaomi         MI 2  4287147352639325907\n",
       "1 -8260683887967679142  M32-38      Xiaomi         MI 2 -4085686983594738208\n",
       "2 -8260683887967679142  M32-38      Xiaomi         MI 2  6324194957022958681\n",
       "3 -8260683887967679142  M32-38      Xiaomi         MI 2 -8687507491028761317\n",
       "4 -8260683887967679142  M32-38      Xiaomi         MI 2   877288515501232570"
      ]
     },
     "execution_count": 19,
     "metadata": {},
     "output_type": "execute_result"
    }
   ],
   "source": [
    "dataset = dataset.merge(appsevents, on='device_id')\n",
    "dataset.head()"
   ]
  },
  {
   "cell_type": "code",
   "execution_count": 20,
   "metadata": {
    "collapsed": false
   },
   "outputs": [
    {
     "data": {
      "text/html": [
       "<div>\n",
       "<table border=\"1\" class=\"dataframe\">\n",
       "  <thead>\n",
       "    <tr style=\"text-align: right;\">\n",
       "      <th></th>\n",
       "      <th>device_id</th>\n",
       "      <th>phone_brand</th>\n",
       "      <th>device_model</th>\n",
       "      <th>app_id</th>\n",
       "    </tr>\n",
       "  </thead>\n",
       "  <tbody>\n",
       "    <tr>\n",
       "      <th>0</th>\n",
       "      <td>1002079943728939269</td>\n",
       "      <td>Xiaomi</td>\n",
       "      <td>小米note</td>\n",
       "      <td>5927333115845830913</td>\n",
       "    </tr>\n",
       "    <tr>\n",
       "      <th>1</th>\n",
       "      <td>1002079943728939269</td>\n",
       "      <td>Xiaomi</td>\n",
       "      <td>小米note</td>\n",
       "      <td>-6590029937880196169</td>\n",
       "    </tr>\n",
       "    <tr>\n",
       "      <th>2</th>\n",
       "      <td>1002079943728939269</td>\n",
       "      <td>Xiaomi</td>\n",
       "      <td>小米note</td>\n",
       "      <td>-1488214531155612478</td>\n",
       "    </tr>\n",
       "    <tr>\n",
       "      <th>3</th>\n",
       "      <td>1002079943728939269</td>\n",
       "      <td>Xiaomi</td>\n",
       "      <td>小米note</td>\n",
       "      <td>-9142957261685295367</td>\n",
       "    </tr>\n",
       "    <tr>\n",
       "      <th>4</th>\n",
       "      <td>1002079943728939269</td>\n",
       "      <td>Xiaomi</td>\n",
       "      <td>小米note</td>\n",
       "      <td>8693964245073640147</td>\n",
       "    </tr>\n",
       "  </tbody>\n",
       "</table>\n",
       "</div>"
      ],
      "text/plain": [
       "             device_id phone_brand device_model               app_id\n",
       "0  1002079943728939269      Xiaomi       小米note  5927333115845830913\n",
       "1  1002079943728939269      Xiaomi       小米note -6590029937880196169\n",
       "2  1002079943728939269      Xiaomi       小米note -1488214531155612478\n",
       "3  1002079943728939269      Xiaomi       小米note -9142957261685295367\n",
       "4  1002079943728939269      Xiaomi       小米note  8693964245073640147"
      ]
     },
     "execution_count": 20,
     "metadata": {},
     "output_type": "execute_result"
    }
   ],
   "source": [
    "gaptest = gaptest.merge(appsevents, on='device_id')\n",
    "gaptest.head()"
   ]
  },
  {
   "cell_type": "code",
   "execution_count": 21,
   "metadata": {
    "collapsed": true
   },
   "outputs": [],
   "source": [
    "# Leak\n",
    "dataset['row'] = dataset.index\n",
    "gaptest['row'] = gaptest.index"
   ]
  },
  {
   "cell_type": "code",
   "execution_count": 22,
   "metadata": {
    "collapsed": false,
    "scrolled": true
   },
   "outputs": [
    {
     "data": {
      "text/plain": [
       "Index(['device_id', 'group', 'phone_brand', 'device_model', 'app_id', 'row'], dtype='object')"
      ]
     },
     "execution_count": 22,
     "metadata": {},
     "output_type": "execute_result"
    }
   ],
   "source": [
    "dataset.columns"
   ]
  },
  {
   "cell_type": "code",
   "execution_count": 23,
   "metadata": {
    "collapsed": false
   },
   "outputs": [
    {
     "data": {
      "text/plain": [
       "Index(['device_id', 'phone_brand', 'device_model', 'app_id', 'row'], dtype='object')"
      ]
     },
     "execution_count": 23,
     "metadata": {},
     "output_type": "execute_result"
    }
   ],
   "source": [
    "gaptest.columns"
   ]
  },
  {
   "cell_type": "code",
   "execution_count": 20,
   "metadata": {
    "collapsed": false
   },
   "outputs": [
    {
     "name": "stdout",
     "output_type": "stream",
     "text": [
      "Predicted LogLoss: 0_ 2.40066\n",
      "Predicted LogLoss: 1_ 2.40196\n",
      "Predicted LogLoss: 2_ 2.40330\n",
      "Predicted LogLoss: 3_ 2.39789\n"
     ]
    },
    {
     "name": "stderr",
     "output_type": "stream",
     "text": [
      "/home/gonzalo/virtualenvs/machine-learning/lib/python3.4/site-packages/ipykernel/__main__.py:2: VisibleDeprecationWarning: using a non-integer number instead of an integer will result in an error in the future\n",
      "  from ipykernel import kernelapp as app\n"
     ]
    }
   ],
   "source": [
    "# Logistic without apps\n",
    "results, rpred = run(PhoneBrandAppsEstimator, dataset.dropna(), valid=gaptest)\n",
    "pred = pd.DataFrame(rpred[:len(rpred)/4], columns=results.columns[2:])\n",
    "pred.insert(0, 'device_id', gatest.device_id)\n",
    "pred.to_csv('data/valid_predictions_lrlk.csv', index=False)"
   ]
  },
  {
   "cell_type": "code",
   "execution_count": 38,
   "metadata": {
    "collapsed": false
   },
   "outputs": [
    {
     "name": "stdout",
     "output_type": "stream",
     "text": [
      "LogLoss it 0: 2.87337\n",
      "LogLoss it 1: 3.30028\n",
      "LogLoss it 2: 3.09062\n",
      "LogLoss it 3: 3.06112\n"
     ]
    },
    {
     "name": "stderr",
     "output_type": "stream",
     "text": [
      "/home/gonzalo/virtualenvs/machine-learning/lib/python3.4/site-packages/ipykernel/__main__.py:2: VisibleDeprecationWarning: using a non-integer number instead of an integer will result in an error in the future\n",
      "  from ipykernel import kernelapp as app\n"
     ]
    },
    {
     "name": "stdout",
     "output_type": "stream",
     "text": [
      "CPU times: user 3 µs, sys: 1e+03 ns, total: 4 µs\n",
      "Wall time: 7.87 µs\n"
     ]
    }
   ],
   "source": [
    "# XGBoost without apps\n",
    "results, rpred = run(XGBEstimator, dataset.dropna(), valid=gaptest)\n",
    "pred = pd.DataFrame(rpred[:len(rpred)/4], columns=results.columns[2:])\n",
    "pred.insert(0, 'device_id', gatest.device_id)\n",
    "pred.to_csv('data/valid_predictions_xgb.csv', index=False)"
   ]
  },
  {
   "cell_type": "code",
   "execution_count": 24,
   "metadata": {
    "collapsed": false
   },
   "outputs": [
    {
     "name": "stdout",
     "output_type": "stream",
     "text": [
      "LogLoss it 0: 6.13999\n",
      "LogLoss it 1: 5.21842\n",
      "LogLoss it 2: 6.17781\n",
      "LogLoss it 3: 6.48236\n"
     ]
    },
    {
     "name": "stderr",
     "output_type": "stream",
     "text": [
      "/home/gonzalo/virtualenvs/machine-learning/lib/python3.4/site-packages/ipykernel/__main__.py:3: VisibleDeprecationWarning: using a non-integer number instead of an integer will result in an error in the future\n",
      "  app.launch_new_instance()\n"
     ]
    }
   ],
   "source": [
    "#XGBoost con apps ids\n",
    "results, rpred = run(XGBEstimator, dataset.dropna(), valid=gaptest)\n",
    "pred = pd.DataFrame(rpred[:len(rpred)/4], columns=results.columns[2:])\n",
    "pred.insert(0, 'device_id', gatest.device_id)\n",
    "pred.to_csv('data/valid_predictions_xgb.csv', index=False)"
   ]
  },
  {
   "cell_type": "code",
   "execution_count": 110,
   "metadata": {
    "collapsed": false
   },
   "outputs": [
    {
     "name": "stdout",
     "output_type": "stream",
     "text": [
      "LogLoss it n 0: 2.22377\n",
      "LogLoss it n 1: 2.21093\n",
      "LogLoss it n 2: 2.20811\n",
      "LogLoss it n 3: 2.20655\n"
     ]
    },
    {
     "ename": "ValueError",
     "evalue": "all the input arrays must have same number of dimensions",
     "output_type": "error",
     "traceback": [
      "\u001b[0;31m---------------------------------------------------------------------------\u001b[0m",
      "\u001b[0;31mValueError\u001b[0m                                Traceback (most recent call last)",
      "\u001b[0;32m<ipython-input-110-e79e0bdacd3b>\u001b[0m in \u001b[0;36m<module>\u001b[0;34m()\u001b[0m\n\u001b[1;32m      1\u001b[0m \u001b[0;31m#Logistic regr con apps ids\u001b[0m\u001b[0;34m\u001b[0m\u001b[0;34m\u001b[0m\u001b[0m\n\u001b[0;32m----> 2\u001b[0;31m \u001b[0mresults\u001b[0m\u001b[0;34m,\u001b[0m \u001b[0mrpred\u001b[0m \u001b[0;34m=\u001b[0m \u001b[0mrun\u001b[0m\u001b[0;34m(\u001b[0m\u001b[0mPhoneBrandEstimator\u001b[0m\u001b[0;34m,\u001b[0m \u001b[0mdataset\u001b[0m\u001b[0;34m.\u001b[0m\u001b[0mdropna\u001b[0m\u001b[0;34m(\u001b[0m\u001b[0;34m)\u001b[0m\u001b[0;34m,\u001b[0m \u001b[0mvalid\u001b[0m\u001b[0;34m=\u001b[0m\u001b[0mgaptest\u001b[0m\u001b[0;34m)\u001b[0m\u001b[0;34m\u001b[0m\u001b[0m\n\u001b[0m\u001b[1;32m      3\u001b[0m \u001b[0mpred\u001b[0m \u001b[0;34m=\u001b[0m \u001b[0mpd\u001b[0m\u001b[0;34m.\u001b[0m\u001b[0mDataFrame\u001b[0m\u001b[0;34m(\u001b[0m\u001b[0mrpred\u001b[0m\u001b[0;34m[\u001b[0m\u001b[0;34m:\u001b[0m\u001b[0mlen\u001b[0m\u001b[0;34m(\u001b[0m\u001b[0mrpred\u001b[0m\u001b[0;34m)\u001b[0m\u001b[0;34m/\u001b[0m\u001b[0;36m4\u001b[0m\u001b[0;34m]\u001b[0m\u001b[0;34m,\u001b[0m \u001b[0mcolumns\u001b[0m\u001b[0;34m=\u001b[0m\u001b[0mresults\u001b[0m\u001b[0;34m.\u001b[0m\u001b[0mcolumns\u001b[0m\u001b[0;34m[\u001b[0m\u001b[0;36m2\u001b[0m\u001b[0;34m:\u001b[0m\u001b[0;34m]\u001b[0m\u001b[0;34m)\u001b[0m\u001b[0;34m\u001b[0m\u001b[0m\n\u001b[1;32m      4\u001b[0m \u001b[0mpred\u001b[0m\u001b[0;34m.\u001b[0m\u001b[0minsert\u001b[0m\u001b[0;34m(\u001b[0m\u001b[0;36m0\u001b[0m\u001b[0;34m,\u001b[0m \u001b[0;34m'device_id'\u001b[0m\u001b[0;34m,\u001b[0m \u001b[0mgatest\u001b[0m\u001b[0;34m.\u001b[0m\u001b[0mdevice_id\u001b[0m\u001b[0;34m)\u001b[0m\u001b[0;34m\u001b[0m\u001b[0m\n\u001b[1;32m      5\u001b[0m \u001b[0mpred\u001b[0m\u001b[0;34m.\u001b[0m\u001b[0mto_csv\u001b[0m\u001b[0;34m(\u001b[0m\u001b[0;34m'data/valid_predictions_xgb.csv'\u001b[0m\u001b[0;34m,\u001b[0m \u001b[0mindex\u001b[0m\u001b[0;34m=\u001b[0m\u001b[0;32mFalse\u001b[0m\u001b[0;34m)\u001b[0m\u001b[0;34m\u001b[0m\u001b[0m\n",
      "\u001b[0;32m/home/gonzalo/sandbox/kaggle/kaggle-competitions/talking-data/talkingdata.py\u001b[0m in \u001b[0;36mrun\u001b[0;34m(model, dataset, target_column, valid, dump_path)\u001b[0m\n\u001b[1;32m     71\u001b[0m             \u001b[0mpvalids\u001b[0m\u001b[0;34m.\u001b[0m\u001b[0mappend\u001b[0m\u001b[0;34m(\u001b[0m\u001b[0mm\u001b[0m\u001b[0;34m.\u001b[0m\u001b[0mpredict_proba\u001b[0m\u001b[0;34m(\u001b[0m\u001b[0mvalid\u001b[0m\u001b[0;34m)\u001b[0m\u001b[0;34m)\u001b[0m\u001b[0;34m\u001b[0m\u001b[0m\n\u001b[1;32m     72\u001b[0m \u001b[0;34m\u001b[0m\u001b[0m\n\u001b[0;32m---> 73\u001b[0;31m     \u001b[0mpredictions\u001b[0m \u001b[0;34m=\u001b[0m \u001b[0mnp\u001b[0m\u001b[0;34m.\u001b[0m\u001b[0mconcatenate\u001b[0m\u001b[0;34m(\u001b[0m\u001b[0mpredictions\u001b[0m\u001b[0;34m)\u001b[0m\u001b[0;34m\u001b[0m\u001b[0m\n\u001b[0m\u001b[1;32m     74\u001b[0m     \u001b[0mactuals\u001b[0m \u001b[0;34m=\u001b[0m \u001b[0mnp\u001b[0m\u001b[0;34m.\u001b[0m\u001b[0mconcatenate\u001b[0m\u001b[0;34m(\u001b[0m\u001b[0mactuals\u001b[0m\u001b[0;34m)\u001b[0m\u001b[0;34m\u001b[0m\u001b[0m\n\u001b[1;32m     75\u001b[0m     \u001b[0mout\u001b[0m \u001b[0;34m=\u001b[0m \u001b[0mpd\u001b[0m\u001b[0;34m.\u001b[0m\u001b[0mDataFrame\u001b[0m\u001b[0;34m(\u001b[0m\u001b[0mpredictions\u001b[0m\u001b[0;34m,\u001b[0m \u001b[0mcolumns\u001b[0m\u001b[0;34m=\u001b[0m\u001b[0mm\u001b[0m\u001b[0;34m.\u001b[0m\u001b[0mget_classes\u001b[0m\u001b[0;34m(\u001b[0m\u001b[0;34m)\u001b[0m\u001b[0;34m)\u001b[0m\u001b[0;34m\u001b[0m\u001b[0m\n",
      "\u001b[0;31mValueError\u001b[0m: all the input arrays must have same number of dimensions"
     ]
    }
   ],
   "source": [
    "#Logistic regr con apps ids\n",
    "results, rpred = run(PhoneBrandEstimator, dataset.dropna(), valid=gaptest)\n",
    "pred = pd.DataFrame(rpred[:len(rpred)/4], columns=results.columns[2:])\n",
    "pred.insert(0, 'device_id', gatest.device_id)\n",
    "pred.to_csv('data/valid_predictions_xgb.csv', index=False)"
   ]
  },
  {
   "cell_type": "code",
   "execution_count": 26,
   "metadata": {
    "collapsed": false
   },
   "outputs": [
    {
     "data": {
      "text/html": [
       "<div>\n",
       "<table border=\"1\" class=\"dataframe\">\n",
       "  <thead>\n",
       "    <tr style=\"text-align: right;\">\n",
       "      <th></th>\n",
       "      <th>device_id</th>\n",
       "      <th>F23-</th>\n",
       "      <th>F24-26</th>\n",
       "      <th>F27-28</th>\n",
       "      <th>F29-32</th>\n",
       "      <th>F33-42</th>\n",
       "      <th>F43+</th>\n",
       "      <th>M22-</th>\n",
       "      <th>M23-26</th>\n",
       "      <th>M27-28</th>\n",
       "      <th>M29-31</th>\n",
       "      <th>M32-38</th>\n",
       "      <th>M39+</th>\n",
       "    </tr>\n",
       "  </thead>\n",
       "  <tbody>\n",
       "    <tr>\n",
       "      <th>0</th>\n",
       "      <td>1.002080e+18</td>\n",
       "      <td>0.029786</td>\n",
       "      <td>0.052047</td>\n",
       "      <td>0.049851</td>\n",
       "      <td>0.066659</td>\n",
       "      <td>0.054519</td>\n",
       "      <td>0.032909</td>\n",
       "      <td>0.065532</td>\n",
       "      <td>0.132401</td>\n",
       "      <td>0.120194</td>\n",
       "      <td>0.108487</td>\n",
       "      <td>0.186165</td>\n",
       "      <td>0.101452</td>\n",
       "    </tr>\n",
       "    <tr>\n",
       "      <th>1</th>\n",
       "      <td>-1.547860e+18</td>\n",
       "      <td>0.029786</td>\n",
       "      <td>0.052047</td>\n",
       "      <td>0.049851</td>\n",
       "      <td>0.066659</td>\n",
       "      <td>0.054519</td>\n",
       "      <td>0.032909</td>\n",
       "      <td>0.065532</td>\n",
       "      <td>0.132401</td>\n",
       "      <td>0.120194</td>\n",
       "      <td>0.108487</td>\n",
       "      <td>0.186165</td>\n",
       "      <td>0.101452</td>\n",
       "    </tr>\n",
       "    <tr>\n",
       "      <th>2</th>\n",
       "      <td>7.374582e+18</td>\n",
       "      <td>0.029786</td>\n",
       "      <td>0.052047</td>\n",
       "      <td>0.049851</td>\n",
       "      <td>0.066659</td>\n",
       "      <td>0.054519</td>\n",
       "      <td>0.032909</td>\n",
       "      <td>0.065532</td>\n",
       "      <td>0.132401</td>\n",
       "      <td>0.120194</td>\n",
       "      <td>0.108487</td>\n",
       "      <td>0.186165</td>\n",
       "      <td>0.101452</td>\n",
       "    </tr>\n",
       "    <tr>\n",
       "      <th>3</th>\n",
       "      <td>-6.220210e+18</td>\n",
       "      <td>0.029786</td>\n",
       "      <td>0.052047</td>\n",
       "      <td>0.049851</td>\n",
       "      <td>0.066659</td>\n",
       "      <td>0.054519</td>\n",
       "      <td>0.032909</td>\n",
       "      <td>0.065532</td>\n",
       "      <td>0.132401</td>\n",
       "      <td>0.120194</td>\n",
       "      <td>0.108487</td>\n",
       "      <td>0.186165</td>\n",
       "      <td>0.101452</td>\n",
       "    </tr>\n",
       "    <tr>\n",
       "      <th>4</th>\n",
       "      <td>-5.893464e+18</td>\n",
       "      <td>0.029786</td>\n",
       "      <td>0.052047</td>\n",
       "      <td>0.049851</td>\n",
       "      <td>0.066659</td>\n",
       "      <td>0.054519</td>\n",
       "      <td>0.032909</td>\n",
       "      <td>0.065532</td>\n",
       "      <td>0.132401</td>\n",
       "      <td>0.120194</td>\n",
       "      <td>0.108487</td>\n",
       "      <td>0.186165</td>\n",
       "      <td>0.101452</td>\n",
       "    </tr>\n",
       "  </tbody>\n",
       "</table>\n",
       "</div>"
      ],
      "text/plain": [
       "      device_id      F23-    F24-26    F27-28    F29-32    F33-42      F43+  \\\n",
       "0  1.002080e+18  0.029786  0.052047  0.049851  0.066659  0.054519  0.032909   \n",
       "1 -1.547860e+18  0.029786  0.052047  0.049851  0.066659  0.054519  0.032909   \n",
       "2  7.374582e+18  0.029786  0.052047  0.049851  0.066659  0.054519  0.032909   \n",
       "3 -6.220210e+18  0.029786  0.052047  0.049851  0.066659  0.054519  0.032909   \n",
       "4 -5.893464e+18  0.029786  0.052047  0.049851  0.066659  0.054519  0.032909   \n",
       "\n",
       "       M22-    M23-26    M27-28    M29-31    M32-38      M39+  \n",
       "0  0.065532  0.132401  0.120194  0.108487  0.186165  0.101452  \n",
       "1  0.065532  0.132401  0.120194  0.108487  0.186165  0.101452  \n",
       "2  0.065532  0.132401  0.120194  0.108487  0.186165  0.101452  \n",
       "3  0.065532  0.132401  0.120194  0.108487  0.186165  0.101452  \n",
       "4  0.065532  0.132401  0.120194  0.108487  0.186165  0.101452  "
      ]
     },
     "execution_count": 26,
     "metadata": {},
     "output_type": "execute_result"
    }
   ],
   "source": [
    "pred.head()"
   ]
  },
  {
   "cell_type": "code",
   "execution_count": 29,
   "metadata": {
    "collapsed": false
   },
   "outputs": [],
   "source": [
    "pred['device_id'] = pred.device_id.astype('category')"
   ]
  },
  {
   "cell_type": "code",
   "execution_count": 30,
   "metadata": {
    "collapsed": false
   },
   "outputs": [
    {
     "data": {
      "text/plain": [
       "count     1.120710e+05\n",
       "unique    1.120700e+05\n",
       "top       1.186608e+18\n",
       "freq      2.000000e+00\n",
       "Name: device_id, dtype: float64"
      ]
     },
     "execution_count": 30,
     "metadata": {},
     "output_type": "execute_result"
    }
   ],
   "source": [
    "pred.device_id.describe()"
   ]
  },
  {
   "cell_type": "code",
   "execution_count": 43,
   "metadata": {
    "collapsed": false
   },
   "outputs": [
    {
     "data": {
      "text/plain": [
       "112071"
      ]
     },
     "execution_count": 43,
     "metadata": {},
     "output_type": "execute_result"
    }
   ],
   "source": [
    "len(gatest)"
   ]
  },
  {
   "cell_type": "code",
   "execution_count": 44,
   "metadata": {
    "collapsed": false
   },
   "outputs": [
    {
     "data": {
      "text/plain": [
       "count    1.120710e+05\n",
       "mean    -2.367461e+16\n",
       "std      5.331855e+18\n",
       "min     -9.223322e+18\n",
       "25%     -4.661036e+18\n",
       "50%     -3.107321e+16\n",
       "75%      4.581985e+18\n",
       "max      9.223069e+18\n",
       "Name: device_id, dtype: float64"
      ]
     },
     "execution_count": 44,
     "metadata": {},
     "output_type": "execute_result"
    }
   ],
   "source": [
    "gatest.device_id.describe()"
   ]
  },
  {
   "cell_type": "code",
   "execution_count": 112,
   "metadata": {
    "collapsed": false
   },
   "outputs": [
    {
     "name": "stdout",
     "output_type": "stream",
     "text": [
      "LogLoss it 0: 2.22377\n",
      "LogLoss it 1: 2.21093\n",
      "LogLoss it 2: 2.20811\n",
      "LogLoss it 3: 2.20655\n"
     ]
    }
   ],
   "source": [
    "#Logistic regr con apps ids\n",
    "results, rpred = run(PhoneBrandEstimator, dataset.dropna(), valid=gaptest)\n",
    "pred = pd.DataFrame(rpred, columns=results.columns[2:])\n",
    "pred.insert(0, 'device_id', gatest.device_id)"
   ]
  },
  {
   "cell_type": "code",
   "execution_count": 114,
   "metadata": {
    "collapsed": false
   },
   "outputs": [
    {
     "data": {
      "text/html": [
       "<div>\n",
       "<table border=\"1\" class=\"dataframe\">\n",
       "  <thead>\n",
       "    <tr style=\"text-align: right;\">\n",
       "      <th></th>\n",
       "      <th>device_id</th>\n",
       "      <th>F23-</th>\n",
       "      <th>F24-26</th>\n",
       "      <th>F27-28</th>\n",
       "      <th>F29-32</th>\n",
       "      <th>F33-42</th>\n",
       "      <th>F43+</th>\n",
       "      <th>M22-</th>\n",
       "      <th>M23-26</th>\n",
       "      <th>M27-28</th>\n",
       "      <th>M29-31</th>\n",
       "      <th>M32-38</th>\n",
       "      <th>M39+</th>\n",
       "    </tr>\n",
       "  </thead>\n",
       "  <tbody>\n",
       "    <tr>\n",
       "      <th>1387332</th>\n",
       "      <td>NaN</td>\n",
       "      <td>0.025589</td>\n",
       "      <td>0.043393</td>\n",
       "      <td>0.030795</td>\n",
       "      <td>0.045605</td>\n",
       "      <td>0.085327</td>\n",
       "      <td>0.052979</td>\n",
       "      <td>0.061811</td>\n",
       "      <td>0.076307</td>\n",
       "      <td>0.067286</td>\n",
       "      <td>0.142609</td>\n",
       "      <td>0.186254</td>\n",
       "      <td>0.182046</td>\n",
       "    </tr>\n",
       "    <tr>\n",
       "      <th>1387333</th>\n",
       "      <td>NaN</td>\n",
       "      <td>0.025589</td>\n",
       "      <td>0.043393</td>\n",
       "      <td>0.030795</td>\n",
       "      <td>0.045605</td>\n",
       "      <td>0.085327</td>\n",
       "      <td>0.052979</td>\n",
       "      <td>0.061811</td>\n",
       "      <td>0.076307</td>\n",
       "      <td>0.067286</td>\n",
       "      <td>0.142609</td>\n",
       "      <td>0.186254</td>\n",
       "      <td>0.182046</td>\n",
       "    </tr>\n",
       "    <tr>\n",
       "      <th>1387334</th>\n",
       "      <td>NaN</td>\n",
       "      <td>0.025589</td>\n",
       "      <td>0.043393</td>\n",
       "      <td>0.030795</td>\n",
       "      <td>0.045605</td>\n",
       "      <td>0.085327</td>\n",
       "      <td>0.052979</td>\n",
       "      <td>0.061811</td>\n",
       "      <td>0.076307</td>\n",
       "      <td>0.067286</td>\n",
       "      <td>0.142609</td>\n",
       "      <td>0.186254</td>\n",
       "      <td>0.182046</td>\n",
       "    </tr>\n",
       "    <tr>\n",
       "      <th>1387335</th>\n",
       "      <td>NaN</td>\n",
       "      <td>0.025589</td>\n",
       "      <td>0.043393</td>\n",
       "      <td>0.030795</td>\n",
       "      <td>0.045605</td>\n",
       "      <td>0.085327</td>\n",
       "      <td>0.052979</td>\n",
       "      <td>0.061811</td>\n",
       "      <td>0.076307</td>\n",
       "      <td>0.067286</td>\n",
       "      <td>0.142609</td>\n",
       "      <td>0.186254</td>\n",
       "      <td>0.182046</td>\n",
       "    </tr>\n",
       "    <tr>\n",
       "      <th>1387336</th>\n",
       "      <td>NaN</td>\n",
       "      <td>0.025589</td>\n",
       "      <td>0.043393</td>\n",
       "      <td>0.030795</td>\n",
       "      <td>0.045605</td>\n",
       "      <td>0.085327</td>\n",
       "      <td>0.052979</td>\n",
       "      <td>0.061811</td>\n",
       "      <td>0.076307</td>\n",
       "      <td>0.067286</td>\n",
       "      <td>0.142609</td>\n",
       "      <td>0.186254</td>\n",
       "      <td>0.182046</td>\n",
       "    </tr>\n",
       "  </tbody>\n",
       "</table>\n",
       "</div>"
      ],
      "text/plain": [
       "         device_id      F23-    F24-26    F27-28    F29-32    F33-42  \\\n",
       "1387332        NaN  0.025589  0.043393  0.030795  0.045605  0.085327   \n",
       "1387333        NaN  0.025589  0.043393  0.030795  0.045605  0.085327   \n",
       "1387334        NaN  0.025589  0.043393  0.030795  0.045605  0.085327   \n",
       "1387335        NaN  0.025589  0.043393  0.030795  0.045605  0.085327   \n",
       "1387336        NaN  0.025589  0.043393  0.030795  0.045605  0.085327   \n",
       "\n",
       "             F43+      M22-    M23-26    M27-28    M29-31    M32-38      M39+  \n",
       "1387332  0.052979  0.061811  0.076307  0.067286  0.142609  0.186254  0.182046  \n",
       "1387333  0.052979  0.061811  0.076307  0.067286  0.142609  0.186254  0.182046  \n",
       "1387334  0.052979  0.061811  0.076307  0.067286  0.142609  0.186254  0.182046  \n",
       "1387335  0.052979  0.061811  0.076307  0.067286  0.142609  0.186254  0.182046  \n",
       "1387336  0.052979  0.061811  0.076307  0.067286  0.142609  0.186254  0.182046  "
      ]
     },
     "execution_count": 114,
     "metadata": {},
     "output_type": "execute_result"
    }
   ],
   "source": [
    "pred.tail()"
   ]
  },
  {
   "cell_type": "code",
   "execution_count": 118,
   "metadata": {
    "collapsed": false
   },
   "outputs": [
    {
     "data": {
      "text/plain": [
       "112070"
      ]
     },
     "execution_count": 118,
     "metadata": {},
     "output_type": "execute_result"
    }
   ],
   "source": [
    "len(pred.drop_duplicates(subset='device_id').dropna())"
   ]
  },
  {
   "cell_type": "code",
   "execution_count": 119,
   "metadata": {
    "collapsed": false
   },
   "outputs": [
    {
     "data": {
      "text/plain": [
       "112071"
      ]
     },
     "execution_count": 119,
     "metadata": {},
     "output_type": "execute_result"
    }
   ],
   "source": [
    "len(gatest.drop_duplicates(subset='device_id').dropna())"
   ]
  },
  {
   "cell_type": "code",
   "execution_count": 124,
   "metadata": {
    "collapsed": false
   },
   "outputs": [
    {
     "data": {
      "text/html": [
       "<div>\n",
       "<table border=\"1\" class=\"dataframe\">\n",
       "  <thead>\n",
       "    <tr style=\"text-align: right;\">\n",
       "      <th></th>\n",
       "      <th>device_id</th>\n",
       "      <th>F23-</th>\n",
       "      <th>F24-26</th>\n",
       "      <th>F27-28</th>\n",
       "      <th>F29-32</th>\n",
       "      <th>F33-42</th>\n",
       "      <th>F43+</th>\n",
       "      <th>M22-</th>\n",
       "      <th>M23-26</th>\n",
       "      <th>M27-28</th>\n",
       "      <th>M29-31</th>\n",
       "      <th>M32-38</th>\n",
       "      <th>M39+</th>\n",
       "    </tr>\n",
       "  </thead>\n",
       "  <tbody>\n",
       "    <tr>\n",
       "      <th>112066</th>\n",
       "      <td>4.280901e+18</td>\n",
       "      <td>0.086622</td>\n",
       "      <td>0.075646</td>\n",
       "      <td>0.000685</td>\n",
       "      <td>0.018894</td>\n",
       "      <td>0.049052</td>\n",
       "      <td>0.024118</td>\n",
       "      <td>0.215555</td>\n",
       "      <td>0.197651</td>\n",
       "      <td>0.045551</td>\n",
       "      <td>0.111104</td>\n",
       "      <td>0.065173</td>\n",
       "      <td>0.10995</td>\n",
       "    </tr>\n",
       "    <tr>\n",
       "      <th>112067</th>\n",
       "      <td>8.185348e+17</td>\n",
       "      <td>0.086622</td>\n",
       "      <td>0.075646</td>\n",
       "      <td>0.000685</td>\n",
       "      <td>0.018894</td>\n",
       "      <td>0.049052</td>\n",
       "      <td>0.024118</td>\n",
       "      <td>0.215555</td>\n",
       "      <td>0.197651</td>\n",
       "      <td>0.045551</td>\n",
       "      <td>0.111104</td>\n",
       "      <td>0.065173</td>\n",
       "      <td>0.10995</td>\n",
       "    </tr>\n",
       "    <tr>\n",
       "      <th>112068</th>\n",
       "      <td>-8.956851e+18</td>\n",
       "      <td>0.086622</td>\n",
       "      <td>0.075646</td>\n",
       "      <td>0.000685</td>\n",
       "      <td>0.018894</td>\n",
       "      <td>0.049052</td>\n",
       "      <td>0.024118</td>\n",
       "      <td>0.215555</td>\n",
       "      <td>0.197651</td>\n",
       "      <td>0.045551</td>\n",
       "      <td>0.111104</td>\n",
       "      <td>0.065173</td>\n",
       "      <td>0.10995</td>\n",
       "    </tr>\n",
       "    <tr>\n",
       "      <th>112069</th>\n",
       "      <td>6.097318e+18</td>\n",
       "      <td>0.086622</td>\n",
       "      <td>0.075646</td>\n",
       "      <td>0.000685</td>\n",
       "      <td>0.018894</td>\n",
       "      <td>0.049052</td>\n",
       "      <td>0.024118</td>\n",
       "      <td>0.215555</td>\n",
       "      <td>0.197651</td>\n",
       "      <td>0.045551</td>\n",
       "      <td>0.111104</td>\n",
       "      <td>0.065173</td>\n",
       "      <td>0.10995</td>\n",
       "    </tr>\n",
       "    <tr>\n",
       "      <th>112070</th>\n",
       "      <td>6.224212e+17</td>\n",
       "      <td>0.086622</td>\n",
       "      <td>0.075646</td>\n",
       "      <td>0.000685</td>\n",
       "      <td>0.018894</td>\n",
       "      <td>0.049052</td>\n",
       "      <td>0.024118</td>\n",
       "      <td>0.215555</td>\n",
       "      <td>0.197651</td>\n",
       "      <td>0.045551</td>\n",
       "      <td>0.111104</td>\n",
       "      <td>0.065173</td>\n",
       "      <td>0.10995</td>\n",
       "    </tr>\n",
       "  </tbody>\n",
       "</table>\n",
       "</div>"
      ],
      "text/plain": [
       "           device_id      F23-    F24-26    F27-28    F29-32    F33-42  \\\n",
       "112066  4.280901e+18  0.086622  0.075646  0.000685  0.018894  0.049052   \n",
       "112067  8.185348e+17  0.086622  0.075646  0.000685  0.018894  0.049052   \n",
       "112068 -8.956851e+18  0.086622  0.075646  0.000685  0.018894  0.049052   \n",
       "112069  6.097318e+18  0.086622  0.075646  0.000685  0.018894  0.049052   \n",
       "112070  6.224212e+17  0.086622  0.075646  0.000685  0.018894  0.049052   \n",
       "\n",
       "            F43+      M22-    M23-26    M27-28    M29-31    M32-38     M39+  \n",
       "112066  0.024118  0.215555  0.197651  0.045551  0.111104  0.065173  0.10995  \n",
       "112067  0.024118  0.215555  0.197651  0.045551  0.111104  0.065173  0.10995  \n",
       "112068  0.024118  0.215555  0.197651  0.045551  0.111104  0.065173  0.10995  \n",
       "112069  0.024118  0.215555  0.197651  0.045551  0.111104  0.065173  0.10995  \n",
       "112070  0.024118  0.215555  0.197651  0.045551  0.111104  0.065173  0.10995  "
      ]
     },
     "execution_count": 124,
     "metadata": {},
     "output_type": "execute_result"
    }
   ],
   "source": [
    "pred.drop_duplicates(subset='device_id').dropna().tail()"
   ]
  },
  {
   "cell_type": "code",
   "execution_count": 100,
   "metadata": {
    "collapsed": false
   },
   "outputs": [
    {
     "data": {
      "text/plain": [
       "count    1.120710e+05\n",
       "mean    -2.367461e+16\n",
       "std      5.331855e+18\n",
       "min     -9.223322e+18\n",
       "25%     -4.661036e+18\n",
       "50%     -3.107321e+16\n",
       "75%      4.581985e+18\n",
       "max      9.223069e+18\n",
       "Name: device_id, dtype: float64"
      ]
     },
     "execution_count": 100,
     "metadata": {},
     "output_type": "execute_result"
    }
   ],
   "source": [
    "gatest.device_id.describe()"
   ]
  },
  {
   "cell_type": "code",
   "execution_count": 129,
   "metadata": {
    "collapsed": false
   },
   "outputs": [
    {
     "data": {
      "text/plain": [
       "5822.5"
      ]
     },
     "execution_count": 129,
     "metadata": {},
     "output_type": "execute_result"
    }
   ],
   "source": [
    "len(results.drop_duplicates(subset='device_id'))/4"
   ]
  },
  {
   "cell_type": "code",
   "execution_count": null,
   "metadata": {
    "collapsed": true
   },
   "outputs": [],
   "source": []
  }
 ],
 "metadata": {
  "kernelspec": {
   "display_name": "Python 3",
   "language": "python",
   "name": "python3"
  },
  "language_info": {
   "codemirror_mode": {
    "name": "ipython",
    "version": 3
   },
   "file_extension": ".py",
   "mimetype": "text/x-python",
   "name": "python",
   "nbconvert_exporter": "python",
   "pygments_lexer": "ipython3",
   "version": "3.4.3"
  }
 },
 "nbformat": 4,
 "nbformat_minor": 1
}
